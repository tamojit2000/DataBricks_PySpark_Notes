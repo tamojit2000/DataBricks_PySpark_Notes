{
 "cells": [
  {
   "cell_type": "code",
   "execution_count": 0,
   "metadata": {
    "application/vnd.databricks.v1+cell": {
     "cellMetadata": {
      "byteLimit": 2048000,
      "rowLimit": 10000
     },
     "inputWidgets": {},
     "nuid": "49cba894-cc85-49a6-a8ce-141863aa48a1",
     "showTitle": false,
     "tableResultSettingsMap": {},
     "title": ""
    }
   },
   "outputs": [
    {
     "output_type": "display_data",
     "data": {
      "text/html": [
       "<style scoped>\n",
       "  .table-result-container {\n",
       "    max-height: 300px;\n",
       "    overflow: auto;\n",
       "  }\n",
       "  table, th, td {\n",
       "    border: 1px solid black;\n",
       "    border-collapse: collapse;\n",
       "  }\n",
       "  th, td {\n",
       "    padding: 5px;\n",
       "  }\n",
       "  th {\n",
       "    text-align: left;\n",
       "  }\n",
       "</style><div class='table-result-container'><table class='table-result'><thead style='background-color: white'><tr><th>Id</th><th>Data</th></tr></thead><tbody><tr><td>1</td><td>DataA11</td></tr><tr><td>1</td><td>DataA12</td></tr><tr><td>1</td><td>DataA13</td></tr><tr><td>2</td><td>DataA21</td></tr><tr><td>3</td><td>DataA31</td></tr></tbody></table></div>"
      ]
     },
     "metadata": {
      "application/vnd.databricks.v1+output": {
       "addedWidgets": {},
       "aggData": [],
       "aggError": "",
       "aggOverflow": false,
       "aggSchema": [],
       "aggSeriesLimitReached": false,
       "aggType": "",
       "arguments": {},
       "columnCustomDisplayInfos": {},
       "data": [
        [
         1,
         "DataA11"
        ],
        [
         1,
         "DataA12"
        ],
        [
         1,
         "DataA13"
        ],
        [
         2,
         "DataA21"
        ],
        [
         3,
         "DataA31"
        ]
       ],
       "datasetInfos": [],
       "dbfsResultPath": null,
       "isJsonSchema": true,
       "metadata": {},
       "overflow": false,
       "plotOptions": {
        "customPlotOptions": {},
        "displayType": "table",
        "pivotAggregation": null,
        "pivotColumns": null,
        "xColumns": null,
        "yColumns": null
       },
       "removedWidgets": [],
       "schema": [
        {
         "metadata": "{}",
         "name": "Id",
         "type": "\"integer\""
        },
        {
         "metadata": "{}",
         "name": "Data",
         "type": "\"string\""
        }
       ],
       "type": "table"
      }
     },
     "output_type": "display_data"
    },
    {
     "output_type": "display_data",
     "data": {
      "text/html": [
       "<style scoped>\n",
       "  .table-result-container {\n",
       "    max-height: 300px;\n",
       "    overflow: auto;\n",
       "  }\n",
       "  table, th, td {\n",
       "    border: 1px solid black;\n",
       "    border-collapse: collapse;\n",
       "  }\n",
       "  th, td {\n",
       "    padding: 5px;\n",
       "  }\n",
       "  th {\n",
       "    text-align: left;\n",
       "  }\n",
       "</style><div class='table-result-container'><table class='table-result'><thead style='background-color: white'><tr><th>Id</th><th>Data</th></tr></thead><tbody><tr><td>1</td><td>DataB11</td></tr><tr><td>2</td><td>DataB21</td></tr><tr><td>2</td><td>DataB22</td></tr><tr><td>2</td><td>DataB23</td></tr><tr><td>4</td><td>DataB41</td></tr></tbody></table></div>"
      ]
     },
     "metadata": {
      "application/vnd.databricks.v1+output": {
       "addedWidgets": {},
       "aggData": [],
       "aggError": "",
       "aggOverflow": false,
       "aggSchema": [],
       "aggSeriesLimitReached": false,
       "aggType": "",
       "arguments": {},
       "columnCustomDisplayInfos": {},
       "data": [
        [
         1,
         "DataB11"
        ],
        [
         2,
         "DataB21"
        ],
        [
         2,
         "DataB22"
        ],
        [
         2,
         "DataB23"
        ],
        [
         4,
         "DataB41"
        ]
       ],
       "datasetInfos": [],
       "dbfsResultPath": null,
       "isJsonSchema": true,
       "metadata": {},
       "overflow": false,
       "plotOptions": {
        "customPlotOptions": {},
        "displayType": "table",
        "pivotAggregation": null,
        "pivotColumns": null,
        "xColumns": null,
        "yColumns": null
       },
       "removedWidgets": [],
       "schema": [
        {
         "metadata": "{}",
         "name": "Id",
         "type": "\"integer\""
        },
        {
         "metadata": "{}",
         "name": "Data",
         "type": "\"string\""
        }
       ],
       "type": "table"
      }
     },
     "output_type": "display_data"
    }
   ],
   "source": [
    "A=spark.createDataFrame(\n",
    "    [\n",
    "        [1,'DataA11'],\n",
    "        [1,'DataA12'],\n",
    "        [1,'DataA13'],\n",
    "        [2,'DataA21'],\n",
    "        [3,'DataA31']\n",
    "    ],\n",
    "    'Id int,Data String'\n",
    ")\n",
    "B=spark.createDataFrame(\n",
    "    [\n",
    "        [1,'DataB11'],\n",
    "        [2,'DataB21'],\n",
    "        [2,'DataB22'],\n",
    "        [2,'DataB23'],\n",
    "        [4,'DataB41']\n",
    "    ],\n",
    "    'Id int,Data String'\n",
    ")\n",
    "\n",
    "A.display();B.display()"
   ]
  },
  {
   "cell_type": "markdown",
   "metadata": {
    "application/vnd.databricks.v1+cell": {
     "cellMetadata": {},
     "inputWidgets": {},
     "nuid": "01cece44-8791-4625-9809-868be19000ab",
     "showTitle": false,
     "tableResultSettingsMap": {},
     "title": ""
    }
   },
   "source": [
    "### INNER JOIN"
   ]
  },
  {
   "cell_type": "code",
   "execution_count": 0,
   "metadata": {
    "application/vnd.databricks.v1+cell": {
     "cellMetadata": {
      "byteLimit": 2048000,
      "rowLimit": 10000
     },
     "inputWidgets": {},
     "nuid": "7663c756-85f8-4130-9271-33795834fd8f",
     "showTitle": false,
     "tableResultSettingsMap": {},
     "title": ""
    }
   },
   "outputs": [
    {
     "output_type": "display_data",
     "data": {
      "text/html": [
       "<style scoped>\n",
       "  .table-result-container {\n",
       "    max-height: 300px;\n",
       "    overflow: auto;\n",
       "  }\n",
       "  table, th, td {\n",
       "    border: 1px solid black;\n",
       "    border-collapse: collapse;\n",
       "  }\n",
       "  th, td {\n",
       "    padding: 5px;\n",
       "  }\n",
       "  th {\n",
       "    text-align: left;\n",
       "  }\n",
       "</style><div class='table-result-container'><table class='table-result'><thead style='background-color: white'><tr><th>Id</th><th>Data</th><th>Id</th><th>Data</th></tr></thead><tbody><tr><td>1</td><td>DataA11</td><td>1</td><td>DataB11</td></tr><tr><td>1</td><td>DataA12</td><td>1</td><td>DataB11</td></tr><tr><td>1</td><td>DataA13</td><td>1</td><td>DataB11</td></tr><tr><td>2</td><td>DataA21</td><td>2</td><td>DataB23</td></tr><tr><td>2</td><td>DataA21</td><td>2</td><td>DataB22</td></tr><tr><td>2</td><td>DataA21</td><td>2</td><td>DataB21</td></tr></tbody></table></div>"
      ]
     },
     "metadata": {
      "application/vnd.databricks.v1+output": {
       "addedWidgets": {},
       "aggData": [],
       "aggError": "",
       "aggOverflow": false,
       "aggSchema": [],
       "aggSeriesLimitReached": false,
       "aggType": "",
       "arguments": {},
       "columnCustomDisplayInfos": {},
       "data": [
        [
         1,
         "DataA11",
         1,
         "DataB11"
        ],
        [
         1,
         "DataA12",
         1,
         "DataB11"
        ],
        [
         1,
         "DataA13",
         1,
         "DataB11"
        ],
        [
         2,
         "DataA21",
         2,
         "DataB23"
        ],
        [
         2,
         "DataA21",
         2,
         "DataB22"
        ],
        [
         2,
         "DataA21",
         2,
         "DataB21"
        ]
       ],
       "datasetInfos": [],
       "dbfsResultPath": null,
       "isJsonSchema": true,
       "metadata": {},
       "overflow": false,
       "plotOptions": {
        "customPlotOptions": {},
        "displayType": "table",
        "pivotAggregation": null,
        "pivotColumns": null,
        "xColumns": null,
        "yColumns": null
       },
       "removedWidgets": [],
       "schema": [
        {
         "metadata": "{}",
         "name": "Id",
         "type": "\"integer\""
        },
        {
         "metadata": "{}",
         "name": "Data",
         "type": "\"string\""
        },
        {
         "metadata": "{}",
         "name": "Id",
         "type": "\"integer\""
        },
        {
         "metadata": "{}",
         "name": "Data",
         "type": "\"string\""
        }
       ],
       "type": "table"
      }
     },
     "output_type": "display_data"
    }
   ],
   "source": [
    "A.join(B, A.Id == B.Id, 'inner').display()"
   ]
  },
  {
   "cell_type": "markdown",
   "metadata": {
    "application/vnd.databricks.v1+cell": {
     "cellMetadata": {},
     "inputWidgets": {},
     "nuid": "c8877e82-681d-4489-970d-d66f8bdb2a25",
     "showTitle": false,
     "tableResultSettingsMap": {},
     "title": ""
    }
   },
   "source": [
    "### LEFT JOIN"
   ]
  },
  {
   "cell_type": "code",
   "execution_count": 0,
   "metadata": {
    "application/vnd.databricks.v1+cell": {
     "cellMetadata": {
      "byteLimit": 2048000,
      "rowLimit": 10000
     },
     "inputWidgets": {},
     "nuid": "3a00a543-c2ee-40ec-8bed-1623758e8777",
     "showTitle": false,
     "tableResultSettingsMap": {},
     "title": ""
    }
   },
   "outputs": [
    {
     "output_type": "display_data",
     "data": {
      "text/html": [
       "<style scoped>\n",
       "  .table-result-container {\n",
       "    max-height: 300px;\n",
       "    overflow: auto;\n",
       "  }\n",
       "  table, th, td {\n",
       "    border: 1px solid black;\n",
       "    border-collapse: collapse;\n",
       "  }\n",
       "  th, td {\n",
       "    padding: 5px;\n",
       "  }\n",
       "  th {\n",
       "    text-align: left;\n",
       "  }\n",
       "</style><div class='table-result-container'><table class='table-result'><thead style='background-color: white'><tr><th>Id</th><th>Data</th><th>Id</th><th>Data</th></tr></thead><tbody><tr><td>1</td><td>DataA11</td><td>1</td><td>DataB11</td></tr><tr><td>1</td><td>DataA12</td><td>1</td><td>DataB11</td></tr><tr><td>1</td><td>DataA13</td><td>1</td><td>DataB11</td></tr><tr><td>2</td><td>DataA21</td><td>2</td><td>DataB23</td></tr><tr><td>2</td><td>DataA21</td><td>2</td><td>DataB22</td></tr><tr><td>2</td><td>DataA21</td><td>2</td><td>DataB21</td></tr><tr><td>3</td><td>DataA31</td><td>null</td><td>null</td></tr></tbody></table></div>"
      ]
     },
     "metadata": {
      "application/vnd.databricks.v1+output": {
       "addedWidgets": {},
       "aggData": [],
       "aggError": "",
       "aggOverflow": false,
       "aggSchema": [],
       "aggSeriesLimitReached": false,
       "aggType": "",
       "arguments": {},
       "columnCustomDisplayInfos": {},
       "data": [
        [
         1,
         "DataA11",
         1,
         "DataB11"
        ],
        [
         1,
         "DataA12",
         1,
         "DataB11"
        ],
        [
         1,
         "DataA13",
         1,
         "DataB11"
        ],
        [
         2,
         "DataA21",
         2,
         "DataB23"
        ],
        [
         2,
         "DataA21",
         2,
         "DataB22"
        ],
        [
         2,
         "DataA21",
         2,
         "DataB21"
        ],
        [
         3,
         "DataA31",
         null,
         null
        ]
       ],
       "datasetInfos": [],
       "dbfsResultPath": null,
       "isJsonSchema": true,
       "metadata": {},
       "overflow": false,
       "plotOptions": {
        "customPlotOptions": {},
        "displayType": "table",
        "pivotAggregation": null,
        "pivotColumns": null,
        "xColumns": null,
        "yColumns": null
       },
       "removedWidgets": [],
       "schema": [
        {
         "metadata": "{}",
         "name": "Id",
         "type": "\"integer\""
        },
        {
         "metadata": "{}",
         "name": "Data",
         "type": "\"string\""
        },
        {
         "metadata": "{}",
         "name": "Id",
         "type": "\"integer\""
        },
        {
         "metadata": "{}",
         "name": "Data",
         "type": "\"string\""
        }
       ],
       "type": "table"
      }
     },
     "output_type": "display_data"
    }
   ],
   "source": [
    "A.join(B, A.Id == B.Id, 'left').display()"
   ]
  },
  {
   "cell_type": "markdown",
   "metadata": {
    "application/vnd.databricks.v1+cell": {
     "cellMetadata": {},
     "inputWidgets": {},
     "nuid": "09c8e76d-4845-4283-8009-3d177e949bea",
     "showTitle": false,
     "tableResultSettingsMap": {},
     "title": ""
    }
   },
   "source": [
    "### Right JOIN "
   ]
  },
  {
   "cell_type": "code",
   "execution_count": 0,
   "metadata": {
    "application/vnd.databricks.v1+cell": {
     "cellMetadata": {
      "byteLimit": 2048000,
      "rowLimit": 10000
     },
     "inputWidgets": {},
     "nuid": "93b988c7-9201-4308-9fe7-20df27b2346f",
     "showTitle": false,
     "tableResultSettingsMap": {},
     "title": ""
    }
   },
   "outputs": [
    {
     "output_type": "display_data",
     "data": {
      "text/html": [
       "<style scoped>\n",
       "  .table-result-container {\n",
       "    max-height: 300px;\n",
       "    overflow: auto;\n",
       "  }\n",
       "  table, th, td {\n",
       "    border: 1px solid black;\n",
       "    border-collapse: collapse;\n",
       "  }\n",
       "  th, td {\n",
       "    padding: 5px;\n",
       "  }\n",
       "  th {\n",
       "    text-align: left;\n",
       "  }\n",
       "</style><div class='table-result-container'><table class='table-result'><thead style='background-color: white'><tr><th>Id</th><th>Data</th><th>Id</th><th>Data</th></tr></thead><tbody><tr><td>1</td><td>DataA13</td><td>1</td><td>DataB11</td></tr><tr><td>1</td><td>DataA12</td><td>1</td><td>DataB11</td></tr><tr><td>1</td><td>DataA11</td><td>1</td><td>DataB11</td></tr><tr><td>2</td><td>DataA21</td><td>2</td><td>DataB21</td></tr><tr><td>2</td><td>DataA21</td><td>2</td><td>DataB22</td></tr><tr><td>2</td><td>DataA21</td><td>2</td><td>DataB23</td></tr><tr><td>null</td><td>null</td><td>4</td><td>DataB41</td></tr></tbody></table></div>"
      ]
     },
     "metadata": {
      "application/vnd.databricks.v1+output": {
       "addedWidgets": {},
       "aggData": [],
       "aggError": "",
       "aggOverflow": false,
       "aggSchema": [],
       "aggSeriesLimitReached": false,
       "aggType": "",
       "arguments": {},
       "columnCustomDisplayInfos": {},
       "data": [
        [
         1,
         "DataA13",
         1,
         "DataB11"
        ],
        [
         1,
         "DataA12",
         1,
         "DataB11"
        ],
        [
         1,
         "DataA11",
         1,
         "DataB11"
        ],
        [
         2,
         "DataA21",
         2,
         "DataB21"
        ],
        [
         2,
         "DataA21",
         2,
         "DataB22"
        ],
        [
         2,
         "DataA21",
         2,
         "DataB23"
        ],
        [
         null,
         null,
         4,
         "DataB41"
        ]
       ],
       "datasetInfos": [],
       "dbfsResultPath": null,
       "isJsonSchema": true,
       "metadata": {},
       "overflow": false,
       "plotOptions": {
        "customPlotOptions": {},
        "displayType": "table",
        "pivotAggregation": null,
        "pivotColumns": null,
        "xColumns": null,
        "yColumns": null
       },
       "removedWidgets": [],
       "schema": [
        {
         "metadata": "{}",
         "name": "Id",
         "type": "\"integer\""
        },
        {
         "metadata": "{}",
         "name": "Data",
         "type": "\"string\""
        },
        {
         "metadata": "{}",
         "name": "Id",
         "type": "\"integer\""
        },
        {
         "metadata": "{}",
         "name": "Data",
         "type": "\"string\""
        }
       ],
       "type": "table"
      }
     },
     "output_type": "display_data"
    }
   ],
   "source": [
    "A.join(B, A.Id==B.Id, 'right').display()"
   ]
  },
  {
   "cell_type": "markdown",
   "metadata": {
    "application/vnd.databricks.v1+cell": {
     "cellMetadata": {},
     "inputWidgets": {},
     "nuid": "60c95316-3ea9-4fc8-97d7-63d64bce2218",
     "showTitle": false,
     "tableResultSettingsMap": {},
     "title": ""
    }
   },
   "source": [
    "### Full JOIN"
   ]
  },
  {
   "cell_type": "code",
   "execution_count": 0,
   "metadata": {
    "application/vnd.databricks.v1+cell": {
     "cellMetadata": {
      "byteLimit": 2048000,
      "rowLimit": 10000
     },
     "inputWidgets": {},
     "nuid": "30c51483-3149-4fe9-9578-95279f5ef79b",
     "showTitle": false,
     "tableResultSettingsMap": {},
     "title": ""
    }
   },
   "outputs": [
    {
     "output_type": "display_data",
     "data": {
      "text/html": [
       "<style scoped>\n",
       "  .table-result-container {\n",
       "    max-height: 300px;\n",
       "    overflow: auto;\n",
       "  }\n",
       "  table, th, td {\n",
       "    border: 1px solid black;\n",
       "    border-collapse: collapse;\n",
       "  }\n",
       "  th, td {\n",
       "    padding: 5px;\n",
       "  }\n",
       "  th {\n",
       "    text-align: left;\n",
       "  }\n",
       "</style><div class='table-result-container'><table class='table-result'><thead style='background-color: white'><tr><th>Id</th><th>Data</th><th>Id</th><th>Data</th></tr></thead><tbody><tr><td>1</td><td>DataA11</td><td>1</td><td>DataB11</td></tr><tr><td>1</td><td>DataA12</td><td>1</td><td>DataB11</td></tr><tr><td>1</td><td>DataA13</td><td>1</td><td>DataB11</td></tr><tr><td>2</td><td>DataA21</td><td>2</td><td>DataB23</td></tr><tr><td>3</td><td>DataA31</td><td>null</td><td>null</td></tr><tr><td>2</td><td>DataA21</td><td>2</td><td>DataB22</td></tr><tr><td>2</td><td>DataA21</td><td>2</td><td>DataB21</td></tr><tr><td>null</td><td>null</td><td>4</td><td>DataB41</td></tr></tbody></table></div>"
      ]
     },
     "metadata": {
      "application/vnd.databricks.v1+output": {
       "addedWidgets": {},
       "aggData": [],
       "aggError": "",
       "aggOverflow": false,
       "aggSchema": [],
       "aggSeriesLimitReached": false,
       "aggType": "",
       "arguments": {},
       "columnCustomDisplayInfos": {},
       "data": [
        [
         1,
         "DataA11",
         1,
         "DataB11"
        ],
        [
         1,
         "DataA12",
         1,
         "DataB11"
        ],
        [
         1,
         "DataA13",
         1,
         "DataB11"
        ],
        [
         2,
         "DataA21",
         2,
         "DataB23"
        ],
        [
         3,
         "DataA31",
         null,
         null
        ],
        [
         2,
         "DataA21",
         2,
         "DataB22"
        ],
        [
         2,
         "DataA21",
         2,
         "DataB21"
        ],
        [
         null,
         null,
         4,
         "DataB41"
        ]
       ],
       "datasetInfos": [],
       "dbfsResultPath": null,
       "isJsonSchema": true,
       "metadata": {},
       "overflow": false,
       "plotOptions": {
        "customPlotOptions": {},
        "displayType": "table",
        "pivotAggregation": null,
        "pivotColumns": null,
        "xColumns": null,
        "yColumns": null
       },
       "removedWidgets": [],
       "schema": [
        {
         "metadata": "{}",
         "name": "Id",
         "type": "\"integer\""
        },
        {
         "metadata": "{}",
         "name": "Data",
         "type": "\"string\""
        },
        {
         "metadata": "{}",
         "name": "Id",
         "type": "\"integer\""
        },
        {
         "metadata": "{}",
         "name": "Data",
         "type": "\"string\""
        }
       ],
       "type": "table"
      }
     },
     "output_type": "display_data"
    }
   ],
   "source": [
    "A.join(B, A.Id==B.Id, 'full').display()"
   ]
  },
  {
   "cell_type": "markdown",
   "metadata": {
    "application/vnd.databricks.v1+cell": {
     "cellMetadata": {},
     "inputWidgets": {},
     "nuid": "29a1dcd6-4f84-4545-a0ce-e1a29a50b32a",
     "showTitle": false,
     "tableResultSettingsMap": {},
     "title": ""
    }
   },
   "source": [
    "### ANTI_LEFT JOIN    (A minus B)"
   ]
  },
  {
   "cell_type": "code",
   "execution_count": 0,
   "metadata": {
    "application/vnd.databricks.v1+cell": {
     "cellMetadata": {
      "byteLimit": 2048000,
      "rowLimit": 10000
     },
     "inputWidgets": {},
     "nuid": "01283442-cd20-451a-8476-774a42d66ec5",
     "showTitle": false,
     "tableResultSettingsMap": {},
     "title": ""
    }
   },
   "outputs": [
    {
     "output_type": "display_data",
     "data": {
      "text/html": [
       "<style scoped>\n",
       "  .table-result-container {\n",
       "    max-height: 300px;\n",
       "    overflow: auto;\n",
       "  }\n",
       "  table, th, td {\n",
       "    border: 1px solid black;\n",
       "    border-collapse: collapse;\n",
       "  }\n",
       "  th, td {\n",
       "    padding: 5px;\n",
       "  }\n",
       "  th {\n",
       "    text-align: left;\n",
       "  }\n",
       "</style><div class='table-result-container'><table class='table-result'><thead style='background-color: white'><tr><th>Id</th><th>Data</th></tr></thead><tbody><tr><td>3</td><td>DataA31</td></tr></tbody></table></div>"
      ]
     },
     "metadata": {
      "application/vnd.databricks.v1+output": {
       "addedWidgets": {},
       "aggData": [],
       "aggError": "",
       "aggOverflow": false,
       "aggSchema": [],
       "aggSeriesLimitReached": false,
       "aggType": "",
       "arguments": {},
       "columnCustomDisplayInfos": {},
       "data": [
        [
         3,
         "DataA31"
        ]
       ],
       "datasetInfos": [],
       "dbfsResultPath": null,
       "isJsonSchema": true,
       "metadata": {},
       "overflow": false,
       "plotOptions": {
        "customPlotOptions": {},
        "displayType": "table",
        "pivotAggregation": null,
        "pivotColumns": null,
        "xColumns": null,
        "yColumns": null
       },
       "removedWidgets": [],
       "schema": [
        {
         "metadata": "{}",
         "name": "Id",
         "type": "\"integer\""
        },
        {
         "metadata": "{}",
         "name": "Data",
         "type": "\"string\""
        }
       ],
       "type": "table"
      }
     },
     "output_type": "display_data"
    }
   ],
   "source": [
    "A.join(B, A.Id==B.Id, 'left_anti').display()"
   ]
  },
  {
   "cell_type": "markdown",
   "metadata": {
    "application/vnd.databricks.v1+cell": {
     "cellMetadata": {},
     "inputWidgets": {},
     "nuid": "f678ce15-5d3f-4fd1-bcd3-da311dccd043",
     "showTitle": false,
     "tableResultSettingsMap": {},
     "title": ""
    }
   },
   "source": [
    "### SEMI_LEFT JOIN"
   ]
  },
  {
   "cell_type": "code",
   "execution_count": 0,
   "metadata": {
    "application/vnd.databricks.v1+cell": {
     "cellMetadata": {
      "byteLimit": 2048000,
      "rowLimit": 10000
     },
     "inputWidgets": {},
     "nuid": "d8a3c5a6-f89d-498b-a570-fc513e63e650",
     "showTitle": false,
     "tableResultSettingsMap": {},
     "title": ""
    }
   },
   "outputs": [
    {
     "output_type": "display_data",
     "data": {
      "text/html": [
       "<style scoped>\n",
       "  .table-result-container {\n",
       "    max-height: 300px;\n",
       "    overflow: auto;\n",
       "  }\n",
       "  table, th, td {\n",
       "    border: 1px solid black;\n",
       "    border-collapse: collapse;\n",
       "  }\n",
       "  th, td {\n",
       "    padding: 5px;\n",
       "  }\n",
       "  th {\n",
       "    text-align: left;\n",
       "  }\n",
       "</style><div class='table-result-container'><table class='table-result'><thead style='background-color: white'><tr><th>Id</th><th>Data</th></tr></thead><tbody><tr><td>1</td><td>DataA11</td></tr><tr><td>1</td><td>DataA12</td></tr><tr><td>1</td><td>DataA13</td></tr><tr><td>2</td><td>DataA21</td></tr></tbody></table></div>"
      ]
     },
     "metadata": {
      "application/vnd.databricks.v1+output": {
       "addedWidgets": {},
       "aggData": [],
       "aggError": "",
       "aggOverflow": false,
       "aggSchema": [],
       "aggSeriesLimitReached": false,
       "aggType": "",
       "arguments": {},
       "columnCustomDisplayInfos": {},
       "data": [
        [
         1,
         "DataA11"
        ],
        [
         1,
         "DataA12"
        ],
        [
         1,
         "DataA13"
        ],
        [
         2,
         "DataA21"
        ]
       ],
       "datasetInfos": [],
       "dbfsResultPath": null,
       "isJsonSchema": true,
       "metadata": {},
       "overflow": false,
       "plotOptions": {
        "customPlotOptions": {},
        "displayType": "table",
        "pivotAggregation": null,
        "pivotColumns": null,
        "xColumns": null,
        "yColumns": null
       },
       "removedWidgets": [],
       "schema": [
        {
         "metadata": "{}",
         "name": "Id",
         "type": "\"integer\""
        },
        {
         "metadata": "{}",
         "name": "Data",
         "type": "\"string\""
        }
       ],
       "type": "table"
      }
     },
     "output_type": "display_data"
    }
   ],
   "source": [
    "A.join(B, A.Id==B.Id, 'left_semi').display()"
   ]
  },
  {
   "cell_type": "markdown",
   "metadata": {
    "application/vnd.databricks.v1+cell": {
     "cellMetadata": {},
     "inputWidgets": {},
     "nuid": "6a6daf46-209e-4db8-b6ea-63a84a168aab",
     "showTitle": false,
     "tableResultSettingsMap": {},
     "title": ""
    }
   },
   "source": [
    "### CROSS_JOIN"
   ]
  },
  {
   "cell_type": "code",
   "execution_count": 0,
   "metadata": {
    "application/vnd.databricks.v1+cell": {
     "cellMetadata": {
      "byteLimit": 2048000,
      "rowLimit": 10000
     },
     "inputWidgets": {},
     "nuid": "dd67fe11-89ad-409c-b199-2fbd61a9ca31",
     "showTitle": false,
     "tableResultSettingsMap": {},
     "title": ""
    }
   },
   "outputs": [
    {
     "output_type": "display_data",
     "data": {
      "text/html": [
       "<style scoped>\n",
       "  .table-result-container {\n",
       "    max-height: 300px;\n",
       "    overflow: auto;\n",
       "  }\n",
       "  table, th, td {\n",
       "    border: 1px solid black;\n",
       "    border-collapse: collapse;\n",
       "  }\n",
       "  th, td {\n",
       "    padding: 5px;\n",
       "  }\n",
       "  th {\n",
       "    text-align: left;\n",
       "  }\n",
       "</style><div class='table-result-container'><table class='table-result'><thead style='background-color: white'><tr><th>Id</th><th>Data</th><th>Id</th><th>Data</th></tr></thead><tbody><tr><td>1</td><td>DataA11</td><td>1</td><td>DataB11</td></tr><tr><td>1</td><td>DataA12</td><td>1</td><td>DataB11</td></tr><tr><td>1</td><td>DataA13</td><td>1</td><td>DataB11</td></tr><tr><td>2</td><td>DataA21</td><td>2</td><td>DataB23</td></tr><tr><td>2</td><td>DataA21</td><td>2</td><td>DataB22</td></tr><tr><td>2</td><td>DataA21</td><td>2</td><td>DataB21</td></tr></tbody></table></div>"
      ]
     },
     "metadata": {
      "application/vnd.databricks.v1+output": {
       "addedWidgets": {},
       "aggData": [],
       "aggError": "",
       "aggOverflow": false,
       "aggSchema": [],
       "aggSeriesLimitReached": false,
       "aggType": "",
       "arguments": {},
       "columnCustomDisplayInfos": {},
       "data": [
        [
         1,
         "DataA11",
         1,
         "DataB11"
        ],
        [
         1,
         "DataA12",
         1,
         "DataB11"
        ],
        [
         1,
         "DataA13",
         1,
         "DataB11"
        ],
        [
         2,
         "DataA21",
         2,
         "DataB23"
        ],
        [
         2,
         "DataA21",
         2,
         "DataB22"
        ],
        [
         2,
         "DataA21",
         2,
         "DataB21"
        ]
       ],
       "datasetInfos": [],
       "dbfsResultPath": null,
       "isJsonSchema": true,
       "metadata": {},
       "overflow": false,
       "plotOptions": {
        "customPlotOptions": {},
        "displayType": "table",
        "pivotAggregation": null,
        "pivotColumns": null,
        "xColumns": null,
        "yColumns": null
       },
       "removedWidgets": [],
       "schema": [
        {
         "metadata": "{}",
         "name": "Id",
         "type": "\"integer\""
        },
        {
         "metadata": "{}",
         "name": "Data",
         "type": "\"string\""
        },
        {
         "metadata": "{}",
         "name": "Id",
         "type": "\"integer\""
        },
        {
         "metadata": "{}",
         "name": "Data",
         "type": "\"string\""
        }
       ],
       "type": "table"
      }
     },
     "output_type": "display_data"
    }
   ],
   "source": [
    "A.join(B, A.Id==B.Id, 'cross').display()"
   ]
  },
  {
   "cell_type": "markdown",
   "metadata": {
    "application/vnd.databricks.v1+cell": {
     "cellMetadata": {},
     "inputWidgets": {},
     "nuid": "bdf36a0c-e3bf-4c69-8e4c-5862b2532bb6",
     "showTitle": false,
     "tableResultSettingsMap": {},
     "title": ""
    }
   },
   "source": [
    "### CARTESIAN PRODUCT"
   ]
  },
  {
   "cell_type": "code",
   "execution_count": 0,
   "metadata": {
    "application/vnd.databricks.v1+cell": {
     "cellMetadata": {
      "byteLimit": 2048000,
      "rowLimit": 10000
     },
     "inputWidgets": {},
     "nuid": "d78b33c3-b0f1-41d8-ba51-84b830c62df4",
     "showTitle": false,
     "tableResultSettingsMap": {},
     "title": ""
    }
   },
   "outputs": [
    {
     "output_type": "display_data",
     "data": {
      "text/html": [
       "<style scoped>\n",
       "  .table-result-container {\n",
       "    max-height: 300px;\n",
       "    overflow: auto;\n",
       "  }\n",
       "  table, th, td {\n",
       "    border: 1px solid black;\n",
       "    border-collapse: collapse;\n",
       "  }\n",
       "  th, td {\n",
       "    padding: 5px;\n",
       "  }\n",
       "  th {\n",
       "    text-align: left;\n",
       "  }\n",
       "</style><div class='table-result-container'><table class='table-result'><thead style='background-color: white'><tr><th>Id</th><th>Data</th><th>Id</th><th>Data</th></tr></thead><tbody><tr><td>1</td><td>DataA11</td><td>1</td><td>DataB11</td></tr><tr><td>1</td><td>DataA11</td><td>2</td><td>DataB21</td></tr><tr><td>1</td><td>DataA11</td><td>2</td><td>DataB22</td></tr><tr><td>1</td><td>DataA11</td><td>2</td><td>DataB23</td></tr><tr><td>1</td><td>DataA11</td><td>4</td><td>DataB41</td></tr><tr><td>1</td><td>DataA12</td><td>1</td><td>DataB11</td></tr><tr><td>1</td><td>DataA12</td><td>2</td><td>DataB21</td></tr><tr><td>1</td><td>DataA12</td><td>2</td><td>DataB22</td></tr><tr><td>1</td><td>DataA12</td><td>2</td><td>DataB23</td></tr><tr><td>1</td><td>DataA12</td><td>4</td><td>DataB41</td></tr><tr><td>1</td><td>DataA13</td><td>1</td><td>DataB11</td></tr><tr><td>1</td><td>DataA13</td><td>2</td><td>DataB21</td></tr><tr><td>1</td><td>DataA13</td><td>2</td><td>DataB22</td></tr><tr><td>1</td><td>DataA13</td><td>2</td><td>DataB23</td></tr><tr><td>1</td><td>DataA13</td><td>4</td><td>DataB41</td></tr><tr><td>2</td><td>DataA21</td><td>1</td><td>DataB11</td></tr><tr><td>2</td><td>DataA21</td><td>2</td><td>DataB21</td></tr><tr><td>2</td><td>DataA21</td><td>2</td><td>DataB22</td></tr><tr><td>2</td><td>DataA21</td><td>2</td><td>DataB23</td></tr><tr><td>2</td><td>DataA21</td><td>4</td><td>DataB41</td></tr><tr><td>3</td><td>DataA31</td><td>1</td><td>DataB11</td></tr><tr><td>3</td><td>DataA31</td><td>2</td><td>DataB21</td></tr><tr><td>3</td><td>DataA31</td><td>2</td><td>DataB22</td></tr><tr><td>3</td><td>DataA31</td><td>2</td><td>DataB23</td></tr><tr><td>3</td><td>DataA31</td><td>4</td><td>DataB41</td></tr></tbody></table></div>"
      ]
     },
     "metadata": {
      "application/vnd.databricks.v1+output": {
       "addedWidgets": {},
       "aggData": [],
       "aggError": "",
       "aggOverflow": false,
       "aggSchema": [],
       "aggSeriesLimitReached": false,
       "aggType": "",
       "arguments": {},
       "columnCustomDisplayInfos": {},
       "data": [
        [
         1,
         "DataA11",
         1,
         "DataB11"
        ],
        [
         1,
         "DataA11",
         2,
         "DataB21"
        ],
        [
         1,
         "DataA11",
         2,
         "DataB22"
        ],
        [
         1,
         "DataA11",
         2,
         "DataB23"
        ],
        [
         1,
         "DataA11",
         4,
         "DataB41"
        ],
        [
         1,
         "DataA12",
         1,
         "DataB11"
        ],
        [
         1,
         "DataA12",
         2,
         "DataB21"
        ],
        [
         1,
         "DataA12",
         2,
         "DataB22"
        ],
        [
         1,
         "DataA12",
         2,
         "DataB23"
        ],
        [
         1,
         "DataA12",
         4,
         "DataB41"
        ],
        [
         1,
         "DataA13",
         1,
         "DataB11"
        ],
        [
         1,
         "DataA13",
         2,
         "DataB21"
        ],
        [
         1,
         "DataA13",
         2,
         "DataB22"
        ],
        [
         1,
         "DataA13",
         2,
         "DataB23"
        ],
        [
         1,
         "DataA13",
         4,
         "DataB41"
        ],
        [
         2,
         "DataA21",
         1,
         "DataB11"
        ],
        [
         2,
         "DataA21",
         2,
         "DataB21"
        ],
        [
         2,
         "DataA21",
         2,
         "DataB22"
        ],
        [
         2,
         "DataA21",
         2,
         "DataB23"
        ],
        [
         2,
         "DataA21",
         4,
         "DataB41"
        ],
        [
         3,
         "DataA31",
         1,
         "DataB11"
        ],
        [
         3,
         "DataA31",
         2,
         "DataB21"
        ],
        [
         3,
         "DataA31",
         2,
         "DataB22"
        ],
        [
         3,
         "DataA31",
         2,
         "DataB23"
        ],
        [
         3,
         "DataA31",
         4,
         "DataB41"
        ]
       ],
       "datasetInfos": [],
       "dbfsResultPath": null,
       "isJsonSchema": true,
       "metadata": {},
       "overflow": false,
       "plotOptions": {
        "customPlotOptions": {},
        "displayType": "table",
        "pivotAggregation": null,
        "pivotColumns": null,
        "xColumns": null,
        "yColumns": null
       },
       "removedWidgets": [],
       "schema": [
        {
         "metadata": "{}",
         "name": "Id",
         "type": "\"integer\""
        },
        {
         "metadata": "{}",
         "name": "Data",
         "type": "\"string\""
        },
        {
         "metadata": "{}",
         "name": "Id",
         "type": "\"integer\""
        },
        {
         "metadata": "{}",
         "name": "Data",
         "type": "\"string\""
        }
       ],
       "type": "table"
      }
     },
     "output_type": "display_data"
    }
   ],
   "source": [
    "A.join(B).display()"
   ]
  },
  {
   "cell_type": "code",
   "execution_count": 0,
   "metadata": {
    "application/vnd.databricks.v1+cell": {
     "cellMetadata": {},
     "inputWidgets": {},
     "nuid": "6a39d877-d9bc-4ac1-a81a-832559d84cc7",
     "showTitle": false,
     "tableResultSettingsMap": {},
     "title": ""
    }
   },
   "outputs": [],
   "source": []
  }
 ],
 "metadata": {
  "application/vnd.databricks.v1+notebook": {
   "computePreferences": {
    "hardware": {
     "accelerator": null,
     "gpuPoolId": null,
     "memory": null
    }
   },
   "dashboards": [],
   "environmentMetadata": {
    "base_environment": "",
    "environment_version": "3"
   },
   "inputWidgetPreferences": null,
   "language": "python",
   "notebookMetadata": {
    "pythonIndentUnit": 4
   },
   "notebookName": "PySpark_Joins",
   "widgets": {}
  },
  "language_info": {
   "name": "python"
  }
 },
 "nbformat": 4,
 "nbformat_minor": 0
}