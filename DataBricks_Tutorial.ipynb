{
 "cells": [
  {
   "cell_type": "markdown",
   "metadata": {
    "application/vnd.databricks.v1+cell": {
     "cellMetadata": {},
     "inputWidgets": {},
     "nuid": "eb8f29bf-ea31-40e5-8b4a-81c25ab6b622",
     "showTitle": false,
     "tableResultSettingsMap": {},
     "title": ""
    }
   },
   "source": [
    "### # **Importing Library**"
   ]
  },
  {
   "cell_type": "code",
   "execution_count": 0,
   "metadata": {
    "application/vnd.databricks.v1+cell": {
     "cellMetadata": {
      "byteLimit": 2048000,
      "rowLimit": 10000
     },
     "inputWidgets": {},
     "nuid": "7aafe398-04b4-4e44-9621-5db3805b2e5b",
     "showTitle": false,
     "tableResultSettingsMap": {},
     "title": ""
    }
   },
   "outputs": [],
   "source": [
    "from pyspark.sql.functions import *\n",
    "from pyspark.sql.types import *\n",
    "from pyspark.sql.window import Window"
   ]
  },
  {
   "cell_type": "markdown",
   "metadata": {
    "application/vnd.databricks.v1+cell": {
     "cellMetadata": {},
     "inputWidgets": {},
     "nuid": "fb71fe2b-460f-444d-9e81-8c76d535d1af",
     "showTitle": false,
     "tableResultSettingsMap": {},
     "title": ""
    }
   },
   "source": [
    "### **Data**"
   ]
  },
  {
   "cell_type": "code",
   "execution_count": 0,
   "metadata": {
    "application/vnd.databricks.v1+cell": {
     "cellMetadata": {
      "byteLimit": 2048000,
      "rowLimit": 10000
     },
     "inputWidgets": {},
     "nuid": "d70cab62-0d3b-4d1a-923a-826149c80d59",
     "showTitle": false,
     "tableResultSettingsMap": {},
     "title": ""
    },
    "jupyter": {
     "outputs_hidden": true
    }
   },
   "outputs": [],
   "source": [
    "df=spark.read.csv('/Volumes/workspace/data/bigmartdata/BigMart Sales.csv',inferSchema=True,header=True)\n",
    "df.display()"
   ]
  },
  {
   "cell_type": "markdown",
   "metadata": {
    "application/vnd.databricks.v1+cell": {
     "cellMetadata": {},
     "inputWidgets": {},
     "nuid": "aeb9d19a-8e18-4764-8ec2-4c8bbf3c8803",
     "showTitle": false,
     "tableResultSettingsMap": {},
     "title": ""
    }
   },
   "source": [
    "### **Print Schema | Record Count | No of Columns**"
   ]
  },
  {
   "cell_type": "code",
   "execution_count": 0,
   "metadata": {
    "application/vnd.databricks.v1+cell": {
     "cellMetadata": {},
     "inputWidgets": {},
     "nuid": "6c684595-69ce-49e5-a778-7d4185ab1674",
     "showTitle": false,
     "tableResultSettingsMap": {},
     "title": ""
    }
   },
   "outputs": [],
   "source": [
    "df.printSchema()\n",
    "print(df.count())\n",
    "print(len(df.columns))"
   ]
  },
  {
   "cell_type": "markdown",
   "metadata": {
    "application/vnd.databricks.v1+cell": {
     "cellMetadata": {},
     "inputWidgets": {},
     "nuid": "250d3689-5105-4ad1-b78f-184b5465c8b1",
     "showTitle": false,
     "tableResultSettingsMap": {},
     "title": ""
    }
   },
   "source": [
    "### **Select Columns | Alias | Limit**"
   ]
  },
  {
   "cell_type": "code",
   "execution_count": 0,
   "metadata": {
    "application/vnd.databricks.v1+cell": {
     "cellMetadata": {},
     "inputWidgets": {},
     "nuid": "a9507811-c5e9-4298-b2d0-6b51e691491e",
     "showTitle": false,
     "tableResultSettingsMap": {},
     "title": ""
    }
   },
   "outputs": [],
   "source": [
    "df.select(col('Item_Identifier'),col('Item_Weight')).limit(4).display()\n",
    "\n",
    "df.select(col('Item_Identifier').alias('X'),col('Item_Weight').alias('Y')).limit(4).display()"
   ]
  },
  {
   "cell_type": "markdown",
   "metadata": {
    "application/vnd.databricks.v1+cell": {
     "cellMetadata": {},
     "inputWidgets": {},
     "nuid": "5a22a419-f4e0-48dc-9396-51697e61236f",
     "showTitle": false,
     "tableResultSettingsMap": {},
     "title": ""
    }
   },
   "source": [
    "### **Implement limit and offset getting records from line 3 and 4**"
   ]
  },
  {
   "cell_type": "code",
   "execution_count": 0,
   "metadata": {
    "application/vnd.databricks.v1+cell": {
     "cellMetadata": {},
     "inputWidgets": {},
     "nuid": "8cf777a0-32e6-4ee7-a0ef-0a9e1b79f7a0",
     "showTitle": false,
     "tableResultSettingsMap": {},
     "title": ""
    }
   },
   "outputs": [],
   "source": [
    "U=1\n",
    "L=4\n",
    "\n",
    "df.select(col('Item_Identifier')).limit(L)\\\n",
    "    .withColumn('id',monotonically_increasing_id()).orderBy(col('id').desc())\\\n",
    "    .limit(L-U)\\\n",
    "    .drop('id')\\\n",
    "    .display()"
   ]
  },
  {
   "cell_type": "markdown",
   "metadata": {
    "application/vnd.databricks.v1+cell": {
     "cellMetadata": {},
     "inputWidgets": {},
     "nuid": "f1a07b30-a4c9-4d22-95e2-fe7b45bf3c8d",
     "showTitle": false,
     "tableResultSettingsMap": {},
     "title": ""
    }
   },
   "source": [
    "### **Filter Data**"
   ]
  },
  {
   "cell_type": "code",
   "execution_count": 0,
   "metadata": {
    "application/vnd.databricks.v1+cell": {
     "cellMetadata": {},
     "inputWidgets": {},
     "nuid": "f320f20e-109b-48db-ae5a-aab12549ec0f",
     "showTitle": false,
     "tableResultSettingsMap": {},
     "title": ""
    }
   },
   "outputs": [],
   "source": [
    "df.filter((col('Item_Type')=='Soft Drinks') & (col('Item_Weight')<10)).display()\n",
    "\n",
    "df.filter(col('Outlet_Location_Type').isin('Tier 1','Tier 2') & col('Outlet_Size').isNotNull()).display()"
   ]
  },
  {
   "cell_type": "markdown",
   "metadata": {
    "application/vnd.databricks.v1+cell": {
     "cellMetadata": {},
     "inputWidgets": {},
     "nuid": "bbc5a116-1eda-4da9-9f44-930cdf43bd06",
     "showTitle": false,
     "tableResultSettingsMap": {},
     "title": ""
    }
   },
   "source": [
    "### **Rename Column**"
   ]
  },
  {
   "cell_type": "code",
   "execution_count": 0,
   "metadata": {
    "application/vnd.databricks.v1+cell": {
     "cellMetadata": {},
     "inputWidgets": {},
     "nuid": "83f97906-3590-4336-8561-d5a75fbe3cf4",
     "showTitle": false,
     "tableResultSettingsMap": {},
     "title": ""
    }
   },
   "outputs": [],
   "source": [
    "df.withColumnRenamed('Outlet_Size','Outlet_Size').display()"
   ]
  },
  {
   "cell_type": "markdown",
   "metadata": {
    "application/vnd.databricks.v1+cell": {
     "cellMetadata": {},
     "inputWidgets": {},
     "nuid": "7aa67def-6dae-428b-94f5-2c35ebc91494",
     "showTitle": false,
     "tableResultSettingsMap": {},
     "title": ""
    }
   },
   "source": [
    "### **Add new column\n",
    "###   Constant Value : Lit\n",
    "###   Variable Value : multiply**"
   ]
  },
  {
   "cell_type": "code",
   "execution_count": 0,
   "metadata": {
    "application/vnd.databricks.v1+cell": {
     "cellMetadata": {},
     "inputWidgets": {},
     "nuid": "59451eb0-3c53-4d90-a969-5e431ecdf722",
     "showTitle": false,
     "tableResultSettingsMap": {},
     "title": ""
    }
   },
   "outputs": [],
   "source": [
    "df.withColumn('flag',lit(0))\\\n",
    "    .withColumn('multiply',col('Item_Visibility')*col('Item_MRP'))\\\n",
    "        .display()"
   ]
  },
  {
   "cell_type": "markdown",
   "metadata": {
    "application/vnd.databricks.v1+cell": {
     "cellMetadata": {},
     "inputWidgets": {},
     "nuid": "59d3d348-373b-4fbd-b46d-fadc4cbe102a",
     "showTitle": false,
     "tableResultSettingsMap": {},
     "title": ""
    }
   },
   "source": [
    "### **String Functions**"
   ]
  },
  {
   "cell_type": "code",
   "execution_count": 0,
   "metadata": {
    "application/vnd.databricks.v1+cell": {
     "cellMetadata": {},
     "inputWidgets": {},
     "nuid": "5da32fdc-d1c9-4802-ae49-ba0d99201bb3",
     "showTitle": false,
     "tableResultSettingsMap": {},
     "title": ""
    }
   },
   "outputs": [],
   "source": [
    "df.withColumn('Item_Fat_Content',regexp_replace(col('Item_Fat_Content'),'Low Fat','LF'))\\\n",
    "    .withColumn('Item_Fat_Content',regexp_replace('Item_Fat_Content','Regular','Rg'))\\\n",
    "        .display()\n",
    "\n",
    "\n",
    "df.withColumn('Item_Weight',col('Item_Weight').cast(StringType())).display()\n",
    "\n",
    "df.select(initcap(col('Item_Type'))).display()\n",
    "\n",
    "df.select(lower(col('Item_Type'))).display()\n",
    "df.select(upper(col('Item_Type'))).display()"
   ]
  },
  {
   "cell_type": "markdown",
   "metadata": {
    "application/vnd.databricks.v1+cell": {
     "cellMetadata": {},
     "inputWidgets": {},
     "nuid": "e94fb467-6a11-48d8-8a6f-e1b2ac366e27",
     "showTitle": false,
     "tableResultSettingsMap": {},
     "title": ""
    }
   },
   "source": [
    "### **Order By Asc or Desc**"
   ]
  },
  {
   "cell_type": "code",
   "execution_count": 0,
   "metadata": {
    "application/vnd.databricks.v1+cell": {
     "cellMetadata": {},
     "inputWidgets": {},
     "nuid": "e207614f-30f2-431e-a8b4-94907ee320b2",
     "showTitle": false,
     "tableResultSettingsMap": {},
     "title": ""
    }
   },
   "outputs": [],
   "source": [
    "df.orderBy(col('Item_Weight').desc()).orderBy(col('Item_Visibility').asc()).display()\n",
    "\n",
    "df.select(col('Item_Identifier')).distinct().orderBy(col('Item_Identifier').asc()).display()"
   ]
  },
  {
   "cell_type": "markdown",
   "metadata": {
    "application/vnd.databricks.v1+cell": {
     "cellMetadata": {},
     "inputWidgets": {},
     "nuid": "3453171a-fced-46a5-be02-9ddac453c28c",
     "showTitle": false,
     "tableResultSettingsMap": {},
     "title": ""
    }
   },
   "source": [
    "### **Aggregate Function**"
   ]
  },
  {
   "cell_type": "code",
   "execution_count": 0,
   "metadata": {
    "application/vnd.databricks.v1+cell": {
     "cellMetadata": {},
     "inputWidgets": {},
     "nuid": "d51bb61f-f8c3-4920-a2b6-feeb340a96ff",
     "showTitle": false,
     "tableResultSettingsMap": {},
     "title": ""
    }
   },
   "outputs": [],
   "source": [
    "df.agg(max(col('Item_Visibility'))).display()\n",
    "\n",
    "df.select(col('Item_Visibility')).limit(1).display()\n",
    "\n"
   ]
  },
  {
   "cell_type": "markdown",
   "metadata": {
    "application/vnd.databricks.v1+cell": {
     "cellMetadata": {},
     "inputWidgets": {},
     "nuid": "cac5cc75-3234-4d9e-a0de-b508dc776123",
     "showTitle": false,
     "tableResultSettingsMap": {},
     "title": ""
    }
   },
   "source": [
    "### **Dropping Column**"
   ]
  },
  {
   "cell_type": "code",
   "execution_count": 0,
   "metadata": {
    "application/vnd.databricks.v1+cell": {
     "cellMetadata": {},
     "inputWidgets": {},
     "nuid": "e54d8986-43f4-421a-9a7b-8e6633412c56",
     "showTitle": false,
     "tableResultSettingsMap": {},
     "title": ""
    }
   },
   "outputs": [],
   "source": [
    "df.drop(col('Outlet_Type'),col('Outlet_Identifier')).display()"
   ]
  },
  {
   "cell_type": "markdown",
   "metadata": {
    "application/vnd.databricks.v1+cell": {
     "cellMetadata": {},
     "inputWidgets": {},
     "nuid": "349ddb23-c754-4c86-979e-09bf2f4cd139",
     "showTitle": false,
     "tableResultSettingsMap": {},
     "title": ""
    }
   },
   "source": [
    "### **Dropping Duplicates**"
   ]
  },
  {
   "cell_type": "code",
   "execution_count": 0,
   "metadata": {
    "application/vnd.databricks.v1+cell": {
     "cellMetadata": {},
     "inputWidgets": {},
     "nuid": "91480e3c-f448-4588-aed3-5e3a033270ed",
     "showTitle": false,
     "tableResultSettingsMap": {},
     "title": ""
    }
   },
   "outputs": [],
   "source": [
    "df.drop_duplicates().display()\n",
    "\n",
    "df.drop_duplicates(subset=['Item_Identifier']).display()"
   ]
  },
  {
   "cell_type": "markdown",
   "metadata": {
    "application/vnd.databricks.v1+cell": {
     "cellMetadata": {},
     "inputWidgets": {},
     "nuid": "c33d6f2a-9a20-405d-99e9-a873c20bc1a2",
     "showTitle": false,
     "tableResultSettingsMap": {},
     "title": ""
    }
   },
   "source": [
    "### **Union between DataFrames**"
   ]
  },
  {
   "cell_type": "code",
   "execution_count": 0,
   "metadata": {
    "application/vnd.databricks.v1+cell": {
     "cellMetadata": {},
     "inputWidgets": {},
     "nuid": "bfc3a86d-7535-4f80-9beb-42daeb1152f5",
     "showTitle": false,
     "tableResultSettingsMap": {},
     "title": ""
    }
   },
   "outputs": [],
   "source": [
    "d1=spark.createDataFrame(\n",
    "    [\n",
    "        [1,'A'],\n",
    "        [2,'B']\n",
    "    ],\n",
    "    'id int,name string'\n",
    ")\n",
    "\n",
    "d2=spark.createDataFrame(\n",
    "    [\n",
    "        ['X',10],\n",
    "        ['Y',11]\n",
    "    ],\n",
    "    'name string,id int'\n",
    ")\n",
    "\n",
    "d1.unionByName(d2).display()\n",
    "\n"
   ]
  },
  {
   "cell_type": "markdown",
   "metadata": {
    "application/vnd.databricks.v1+cell": {
     "cellMetadata": {},
     "inputWidgets": {},
     "nuid": "c5a837a2-aba6-48a7-8e20-86b48a0ce743",
     "showTitle": false,
     "tableResultSettingsMap": {},
     "title": ""
    }
   },
   "source": [
    "### **Date Functions**"
   ]
  },
  {
   "cell_type": "code",
   "execution_count": 0,
   "metadata": {
    "application/vnd.databricks.v1+cell": {
     "cellMetadata": {},
     "inputWidgets": {},
     "nuid": "bccc04c5-f754-4ab0-9c80-b8860c6819f4",
     "showTitle": false,
     "tableResultSettingsMap": {},
     "title": ""
    }
   },
   "outputs": [],
   "source": [
    "df=df.withColumn('curr_date',current_date())\n",
    "\n",
    "\n",
    "df=df.withColumn('last_week',date_sub(col('curr_date'),7)).withColumn('next_week',date_add(col('curr_date'),7))\n",
    "\n",
    "\n",
    "df.select(date_diff(col('last_week'),col('next_week')).alias('date_diff')).display()\n",
    "\n",
    "df.select(date_format(col('last_week'),'MM-yyyy')).display()"
   ]
  },
  {
   "cell_type": "markdown",
   "metadata": {
    "application/vnd.databricks.v1+cell": {
     "cellMetadata": {},
     "inputWidgets": {},
     "nuid": "3efe2e2d-50ae-4001-bb1c-e2e4fcbfa904",
     "showTitle": false,
     "tableResultSettingsMap": {},
     "title": ""
    }
   },
   "source": [
    "### **Handling Nulls**"
   ]
  },
  {
   "cell_type": "code",
   "execution_count": 0,
   "metadata": {
    "application/vnd.databricks.v1+cell": {
     "cellMetadata": {},
     "inputWidgets": {},
     "nuid": "aad10bc7-cdff-41bb-8749-2d25f0b8c489",
     "showTitle": false,
     "tableResultSettingsMap": {},
     "title": ""
    }
   },
   "outputs": [],
   "source": [
    "df.dropna('all').display()\n",
    "\n",
    "df.dropna('any').display()\n",
    "\n",
    "df.dropna(subset=['Outlet_Size']).display()\n",
    "\n",
    "df.fillna('Not Available').display()\n",
    "\n",
    "df.fillna('Not Available',subset=['Outlet_Size']).display()"
   ]
  },
  {
   "cell_type": "markdown",
   "metadata": {
    "application/vnd.databricks.v1+cell": {
     "cellMetadata": {},
     "inputWidgets": {},
     "nuid": "b0d7fd18-bb37-4997-98c0-3d8708a83fa2",
     "showTitle": false,
     "tableResultSettingsMap": {},
     "title": ""
    }
   },
   "source": [
    "### **Split | Explode | array_contains**"
   ]
  },
  {
   "cell_type": "code",
   "execution_count": 0,
   "metadata": {
    "application/vnd.databricks.v1+cell": {
     "cellMetadata": {},
     "inputWidgets": {},
     "nuid": "c448c9f5-96cd-4ecc-99e7-1a0bc99442d6",
     "showTitle": false,
     "tableResultSettingsMap": {},
     "title": ""
    }
   },
   "outputs": [],
   "source": [
    "df.select(split(col('Outlet_Type'),' ')[1]).display()\n",
    "\n",
    "new_df=new_df.withColumn('Outlet_Type',explode(split(col('Outlet_Type'),' ')))\n",
    "new_df.display()\n",
    "\n",
    "df.select(array_contains(split(col('Outlet_Type'),' '),'Type1')).display()"
   ]
  },
  {
   "cell_type": "markdown",
   "metadata": {
    "application/vnd.databricks.v1+cell": {
     "cellMetadata": {},
     "inputWidgets": {},
     "nuid": "85fc6850-f25c-41b9-a5ac-2ef3874a85a8",
     "showTitle": false,
     "tableResultSettingsMap": {},
     "title": ""
    }
   },
   "source": [
    "### **GroupBy**"
   ]
  },
  {
   "cell_type": "code",
   "execution_count": 0,
   "metadata": {
    "application/vnd.databricks.v1+cell": {
     "cellMetadata": {},
     "inputWidgets": {},
     "nuid": "e3fcc910-88a9-461e-9c1e-7f4a4d752c83",
     "showTitle": false,
     "tableResultSettingsMap": {},
     "title": ""
    }
   },
   "outputs": [],
   "source": [
    "df.groupby(col('Item_type')).agg(sum(col('Item_MRP'))).display()\n",
    "\n",
    "df.groupby(\n",
    "    col('Item_Type'),col('Outlet_Size')\n",
    ").agg(\n",
    "    sum(col('Item_MRP')).alias('S')\n",
    ").display()\n",
    "\n",
    "\n"
   ]
  },
  {
   "cell_type": "markdown",
   "metadata": {
    "application/vnd.databricks.v1+cell": {
     "cellMetadata": {},
     "inputWidgets": {},
     "nuid": "3dfded3f-4e51-49b6-ac4c-3d1980333663",
     "showTitle": false,
     "tableResultSettingsMap": {},
     "title": ""
    }
   },
   "source": [
    "### **GroupBy collect_list**"
   ]
  },
  {
   "cell_type": "code",
   "execution_count": 0,
   "metadata": {
    "application/vnd.databricks.v1+cell": {
     "cellMetadata": {},
     "inputWidgets": {},
     "nuid": "0fd3efe2-7f58-4454-961d-ce8a9d0b375c",
     "showTitle": false,
     "tableResultSettingsMap": {},
     "title": ""
    }
   },
   "outputs": [],
   "source": [
    "data = [('user1','book1'),\n",
    "        ('user1','book2'),\n",
    "        ('user2','book2'),\n",
    "        ('user2','book4'),\n",
    "        ('user3','book1')]\n",
    "schema='user string,book string'\n",
    "df_bk=spark.createDataFrame(data,schema)\n",
    "\n",
    "df_bk.groupby(col('user')).agg(collect_list(col('book'))).display()"
   ]
  },
  {
   "cell_type": "markdown",
   "metadata": {
    "application/vnd.databricks.v1+cell": {
     "cellMetadata": {},
     "inputWidgets": {},
     "nuid": "6a5683c4-e421-42f9-8bf0-b3143c7d8010",
     "showTitle": false,
     "tableResultSettingsMap": {},
     "title": ""
    }
   },
   "source": [
    "### **GroupBy Pivot**"
   ]
  },
  {
   "cell_type": "code",
   "execution_count": 0,
   "metadata": {
    "application/vnd.databricks.v1+cell": {
     "cellMetadata": {},
     "inputWidgets": {},
     "nuid": "126c8119-494b-4cb8-8c8a-5b0188bae968",
     "showTitle": false,
     "tableResultSettingsMap": {},
     "title": ""
    }
   },
   "outputs": [],
   "source": [
    "df.groupby(col('Item_Type')).pivot('Outlet_Size').agg(sum(col('Item_MRP'))).display()"
   ]
  },
  {
   "cell_type": "markdown",
   "metadata": {
    "application/vnd.databricks.v1+cell": {
     "cellMetadata": {},
     "inputWidgets": {},
     "nuid": "914a98e2-87d4-4673-8f43-83bdc629b187",
     "showTitle": false,
     "tableResultSettingsMap": {},
     "title": ""
    }
   },
   "source": [
    "### **When Clause**"
   ]
  },
  {
   "cell_type": "code",
   "execution_count": 0,
   "metadata": {
    "application/vnd.databricks.v1+cell": {
     "cellMetadata": {},
     "inputWidgets": {},
     "nuid": "47979de3-8fcf-48c7-82e3-bbda967ec1fc",
     "showTitle": false,
     "tableResultSettingsMap": {},
     "title": ""
    }
   },
   "outputs": [],
   "source": [
    "df.select(col('Outlet_Size'),\n",
    "          when(col('Outlet_Size')=='High','H')\n",
    "          .when(col('Outlet_Size')=='Medium','M')\n",
    "          .when(col('Outlet_Size')=='Small','S')\n",
    "          .otherwise('N/A')\n",
    "          .alias('out')\n",
    "          ).display()"
   ]
  },
  {
   "cell_type": "markdown",
   "metadata": {
    "application/vnd.databricks.v1+cell": {
     "cellMetadata": {},
     "inputWidgets": {},
     "nuid": "c962b138-fcaa-45a5-ac7f-2f1588ffdad4",
     "showTitle": false,
     "tableResultSettingsMap": {},
     "title": ""
    }
   },
   "source": [
    "### **Joins | Left | Right | Anti | Full**"
   ]
  },
  {
   "cell_type": "code",
   "execution_count": 0,
   "metadata": {
    "application/vnd.databricks.v1+cell": {
     "cellMetadata": {},
     "inputWidgets": {},
     "nuid": "c8bd4c69-9c22-4254-bc39-573856da6392",
     "showTitle": false,
     "tableResultSettingsMap": {},
     "title": ""
    }
   },
   "outputs": [],
   "source": [
    "df1=spark.createDataFrame(\n",
    "    [\n",
    "        [1,'a'],\n",
    "        [2,'b']\n",
    "    ],\n",
    "    'id int,v1 string'\n",
    ")\n",
    "df2=spark.createDataFrame(\n",
    "    [\n",
    "        [2,'m'],\n",
    "        [3,'p']\n",
    "    ],\n",
    "    'id int,v2 string'\n",
    ")\n",
    "\n",
    "df1.join(df2,on='id',how='inner').display()\n",
    "\n",
    "df1.join(df2,on='id',how='left').display()\n",
    "\n",
    "df1.join(df2,on='id',how='right').display()\n",
    "\n",
    "df1.join(df2, on='id', how='left_anti').display()\n",
    "\n",
    "df1.join(df2,on='id',how='full').display()"
   ]
  },
  {
   "cell_type": "markdown",
   "metadata": {
    "application/vnd.databricks.v1+cell": {
     "cellMetadata": {},
     "inputWidgets": {},
     "nuid": "fe31a5c1-37fe-46b2-9e05-c6cf108f3f43",
     "showTitle": false,
     "tableResultSettingsMap": {},
     "title": ""
    }
   },
   "source": [
    "### **Window Functions | Row Number | Rank | Dense Rank | Total Sum | Cumulative Sum**"
   ]
  },
  {
   "cell_type": "code",
   "execution_count": 0,
   "metadata": {
    "application/vnd.databricks.v1+cell": {
     "cellMetadata": {},
     "inputWidgets": {},
     "nuid": "23d3908d-dedf-4356-ad85-9dff9868e6bb",
     "showTitle": false,
     "tableResultSettingsMap": {},
     "title": ""
    }
   },
   "outputs": [],
   "source": [
    "new_df.withColumn('row_number',row_number().over(Window.orderBy(col('Item_Identifier')))).display()\n",
    "\n",
    "new_df.withColumn('rank',rank().over(Window.orderBy(col('Item_Identifier')))).display()\n",
    "\n",
    "new_df.withColumn('dense_rank',dense_rank().over(Window.orderBy(col('Item_Identifier')))).display()\n",
    "\n",
    "new_df.withColumn('total_sum',sum(col('Item_MRP')).over(Window.orderBy(col('Item_Identifier')))).display()\n",
    "\n",
    "new_df.withColumn('cum_sum', sum(col('Item_MRP'))\n",
    "    .over(Window.orderBy(col(\"Item_Identifier\"))\n",
    "    .rowsBetween(Window.unboundedPreceding, Window.currentRow))\n",
    ").display()\n",
    "\n",
    "new_df.withColumn('cum_sum', sum(col('Item_MRP'))\n",
    "    .over(Window.orderBy(col(\"Item_Identifier\"))\n",
    "    .rowsBetween(Window.currentRow, Window.unboundedFollowing))\n",
    ").display()\n"
   ]
  },
  {
   "cell_type": "markdown",
   "metadata": {
    "application/vnd.databricks.v1+cell": {
     "cellMetadata": {},
     "inputWidgets": {},
     "nuid": "39a83688-1a81-4454-a774-b35709d03f29",
     "showTitle": false,
     "tableResultSettingsMap": {},
     "title": ""
    }
   },
   "source": [
    "### **User Defined Functions | UDF || Not optimised as api**"
   ]
  },
  {
   "cell_type": "code",
   "execution_count": 0,
   "metadata": {
    "application/vnd.databricks.v1+cell": {
     "cellMetadata": {},
     "inputWidgets": {},
     "nuid": "29f5697b-c908-4d64-9d5a-f1e8eb70e0e5",
     "showTitle": false,
     "tableResultSettingsMap": {},
     "title": ""
    }
   },
   "outputs": [],
   "source": [
    "def my_func(x):\n",
    "    return x[:3]+'_'+x[3:]\n",
    "\n",
    "pyspark_func=udf(my_func)\n",
    "\n",
    "new_df.select(pyspark_func(col('Item_Identifier'))).display()"
   ]
  },
  {
   "cell_type": "markdown",
   "metadata": {
    "application/vnd.databricks.v1+cell": {
     "cellMetadata": {},
     "inputWidgets": {},
     "nuid": "88d3c0fe-942c-4f80-a3b1-1810b12b6337",
     "showTitle": false,
     "tableResultSettingsMap": {},
     "title": ""
    }
   },
   "source": [
    "### **Writing to File and Table**"
   ]
  },
  {
   "cell_type": "code",
   "execution_count": 0,
   "metadata": {
    "application/vnd.databricks.v1+cell": {
     "cellMetadata": {},
     "inputWidgets": {},
     "nuid": "2129cbcc-01a3-4136-84a4-34a40d19cec1",
     "showTitle": false,
     "tableResultSettingsMap": {},
     "title": ""
    }
   },
   "outputs": [],
   "source": [
    "# append | overwrite | error | ignore\n",
    "new_df.write.format('delta')\\\n",
    "    .mode('overwrite')\\\n",
    "    .save('/Volumes/workspace/data/bigmartdata/delta_file')\n",
    "\n",
    "new_df.write.mode('overwrite').saveAsTable('My_Table')"
   ]
  },
  {
   "cell_type": "markdown",
   "metadata": {
    "application/vnd.databricks.v1+cell": {
     "cellMetadata": {},
     "inputWidgets": {},
     "nuid": "63927cc8-d16c-46da-a7b6-76bcada3cf1c",
     "showTitle": false,
     "tableResultSettingsMap": {},
     "title": ""
    }
   },
   "source": [
    "### **DataFrame -> TempView -> Execute SQL -> DataFrame**"
   ]
  },
  {
   "cell_type": "code",
   "execution_count": 0,
   "metadata": {
    "application/vnd.databricks.v1+cell": {
     "cellMetadata": {},
     "inputWidgets": {},
     "nuid": "3f209ab2-aa5e-484d-85ea-6bb8e08e1455",
     "showTitle": false,
     "tableResultSettingsMap": {},
     "title": ""
    }
   },
   "outputs": [],
   "source": [
    "new_df.createTempView('My_View')\n",
    "\n",
    "%sql\n",
    "select * from My_View;\n",
    "\n",
    "\n",
    "new_sql_df=spark.sql('select * from My_View')\n",
    "new_sql_df.display()"
   ]
  }
 ],
 "metadata": {
  "application/vnd.databricks.v1+notebook": {
   "computePreferences": null,
   "dashboards": [],
   "environmentMetadata": {
    "base_environment": "",
    "environment_version": "3"
   },
   "inputWidgetPreferences": null,
   "language": "python",
   "notebookMetadata": {
    "pythonIndentUnit": 4
   },
   "notebookName": "DataBricks_Tutorial",
   "widgets": {}
  },
  "language_info": {
   "name": "python"
  }
 },
 "nbformat": 4,
 "nbformat_minor": 0
}